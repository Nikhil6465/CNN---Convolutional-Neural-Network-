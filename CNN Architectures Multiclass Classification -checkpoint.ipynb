{
 "cells": [
  {
   "cell_type": "code",
   "execution_count": 1,
   "id": "13558b27",
   "metadata": {},
   "outputs": [],
   "source": [
    "import tensorflow as tf"
   ]
  },
  {
   "cell_type": "markdown",
   "id": "f43b60bc",
   "metadata": {},
   "source": [
    "## Import data as Image Arugmentation\n",
    "##### Image augmentation is a technique of altering the existing data to create some more data for the model training process"
   ]
  },
  {
   "cell_type": "code",
   "execution_count": 2,
   "id": "5226d4dd",
   "metadata": {},
   "outputs": [],
   "source": [
    "from keras.preprocessing.image import ImageDataGenerator"
   ]
  },
  {
   "cell_type": "markdown",
   "id": "5a62af25",
   "metadata": {},
   "source": [
    "### Data Configuration"
   ]
  },
  {
   "cell_type": "code",
   "execution_count": 3,
   "id": "0334bdc7",
   "metadata": {},
   "outputs": [],
   "source": [
    "train_data = ImageDataGenerator(featurewise_center=False,\n",
    "    samplewise_center=False,\n",
    "    featurewise_std_normalization=False,\n",
    "    samplewise_std_normalization=False,\n",
    "    zca_whitening=False,\n",
    "    zca_epsilon=1e-06,\n",
    "    rotation_range=0,\n",
    "    width_shift_range=0.0,\n",
    "    height_shift_range=0.0,\n",
    "    brightness_range=None,\n",
    "    shear_range=0.02,\n",
    "    zoom_range=0.02,\n",
    "    channel_shift_range=0.0,\n",
    "    fill_mode='nearest',\n",
    "    cval=0.0,\n",
    "    horizontal_flip=True,\n",
    "    vertical_flip=True,\n",
    "    rescale=1./255,\n",
    "    preprocessing_function=None,\n",
    "    data_format=None,\n",
    "    validation_split=0.0,\n",
    "    dtype=None,)"
   ]
  },
  {
   "cell_type": "code",
   "execution_count": 4,
   "id": "d1efe121",
   "metadata": {},
   "outputs": [],
   "source": [
    "validation_data = ImageDataGenerator(rescale=1./255)"
   ]
  },
  {
   "cell_type": "code",
   "execution_count": 5,
   "id": "b33e86ef",
   "metadata": {},
   "outputs": [],
   "source": [
    "test_data = ImageDataGenerator(rescale=1./255)"
   ]
  },
  {
   "cell_type": "markdown",
   "id": "02a97faa",
   "metadata": {},
   "source": [
    "### Mention the path of train and test data"
   ]
  },
  {
   "cell_type": "code",
   "execution_count": 6,
   "id": "06f3024a",
   "metadata": {},
   "outputs": [
    {
     "name": "stdout",
     "output_type": "stream",
     "text": [
      "Found 20 images belonging to 4 classes.\n",
      "Found 7 images belonging to 4 classes.\n"
     ]
    }
   ],
   "source": [
    "train_x_y = train_data.flow_from_directory( directory = r'C:\\Users\\Nikhil\\OneDrive\\Documents\\image processing',target_size=(256, 256))\n",
    "validation_x_y = validation_data.flow_from_directory( directory = r'C:\\Users\\Nikhil\\OneDrive\\Documents\\image processing validation test',target_size=(256, 256),)"
   ]
  },
  {
   "cell_type": "code",
   "execution_count": 7,
   "id": "2c5193d8",
   "metadata": {},
   "outputs": [
    {
     "data": {
      "text/plain": [
       "{'nikhil': 0, 'pallavi': 1, 'shriya': 2, 'triveni': 3}"
      ]
     },
     "execution_count": 7,
     "metadata": {},
     "output_type": "execute_result"
    }
   ],
   "source": [
    "train_x_y.class_indices"
   ]
  },
  {
   "cell_type": "markdown",
   "id": "56e4631b",
   "metadata": {},
   "source": [
    "### Model Building "
   ]
  },
  {
   "cell_type": "markdown",
   "id": "8629e8fa",
   "metadata": {},
   "source": [
    "##### Build the Architecture"
   ]
  },
  {
   "cell_type": "code",
   "execution_count": 8,
   "id": "c8d21bc7",
   "metadata": {},
   "outputs": [],
   "source": [
    "from tensorflow.keras.models import Sequential\n",
    "from tensorflow.keras.layers import Dense,Flatten,Conv2D,MaxPooling2D"
   ]
  },
  {
   "cell_type": "code",
   "execution_count": 43,
   "id": "629836af",
   "metadata": {},
   "outputs": [
    {
     "name": "stdout",
     "output_type": "stream",
     "text": [
      "Model: \"sequential_5\"\n",
      "_________________________________________________________________\n",
      " Layer (type)                Output Shape              Param #   \n",
      "=================================================================\n",
      " conv2d_9 (Conv2D)           (None, 256, 256, 32)      896       \n",
      "                                                                 \n",
      " max_pooling2d_9 (MaxPooling  (None, 128, 128, 32)     0         \n",
      " 2D)                                                             \n",
      "                                                                 \n",
      " conv2d_10 (Conv2D)          (None, 128, 128, 32)      9248      \n",
      "                                                                 \n",
      " max_pooling2d_10 (MaxPoolin  (None, 127, 127, 32)     0         \n",
      " g2D)                                                            \n",
      "                                                                 \n",
      " flatten_5 (Flatten)         (None, 516128)            0         \n",
      "                                                                 \n",
      " dense_10 (Dense)            (None, 200)               103225800 \n",
      "                                                                 \n",
      " dense_11 (Dense)            (None, 4)                 804       \n",
      "                                                                 \n",
      "=================================================================\n",
      "Total params: 103,236,748\n",
      "Trainable params: 103,236,748\n",
      "Non-trainable params: 0\n",
      "_________________________________________________________________\n"
     ]
    }
   ],
   "source": [
    "model = Sequential()\n",
    "model.add(Conv2D(filters=32,kernel_size=(3,3),strides=1,padding='same',activation='relu',input_shape=(256,256,3)))\n",
    "model.add(MaxPooling2D(pool_size=(2,2),strides=2))\n",
    "model.add(Conv2D(filters=32,kernel_size=(3,3),strides=1,padding='same',activation='relu',input_shape=(256,256,3)))\n",
    "model.add(MaxPooling2D(pool_size=(2,2),strides=1))\n",
    "model.add(Flatten())\n",
    "model.add(Dense(units=200,activation='relu'))\n",
    "model.add(Dense(units=4,activation='softmax'))\n",
    "model.summary()"
   ]
  },
  {
   "cell_type": "code",
   "execution_count": 44,
   "id": "01b2c0a3",
   "metadata": {},
   "outputs": [],
   "source": [
    "model.compile(optimizer='adam',loss=['categorical_crossentropy'],metrics=['categorical_accuracy'])"
   ]
  },
  {
   "cell_type": "markdown",
   "id": "aebfd715",
   "metadata": {},
   "source": [
    "### Train the Model"
   ]
  },
  {
   "cell_type": "code",
   "execution_count": 48,
   "id": "ee37d357",
   "metadata": {},
   "outputs": [
    {
     "name": "stdout",
     "output_type": "stream",
     "text": [
      "Epoch 1/50\n",
      "1/1 [==============================] - 2s 2s/step - loss: 0.9447 - categorical_accuracy: 0.7000 - val_loss: 2.7151 - val_categorical_accuracy: 0.4286\n",
      "Epoch 2/50\n",
      "1/1 [==============================] - 2s 2s/step - loss: 0.5476 - categorical_accuracy: 0.8000 - val_loss: 2.4843 - val_categorical_accuracy: 0.2857\n",
      "Epoch 3/50\n",
      "1/1 [==============================] - 2s 2s/step - loss: 0.4141 - categorical_accuracy: 0.8000 - val_loss: 1.5711 - val_categorical_accuracy: 0.2857\n",
      "Epoch 4/50\n",
      "1/1 [==============================] - 2s 2s/step - loss: 0.3619 - categorical_accuracy: 0.8500 - val_loss: 1.0647 - val_categorical_accuracy: 0.5714\n",
      "Epoch 5/50\n",
      "1/1 [==============================] - 2s 2s/step - loss: 0.2071 - categorical_accuracy: 0.9500 - val_loss: 0.8292 - val_categorical_accuracy: 0.5714\n",
      "Epoch 6/50\n",
      "1/1 [==============================] - 2s 2s/step - loss: 0.1540 - categorical_accuracy: 1.0000 - val_loss: 0.6468 - val_categorical_accuracy: 0.7143\n",
      "Epoch 7/50\n",
      "1/1 [==============================] - 2s 2s/step - loss: 0.1248 - categorical_accuracy: 1.0000 - val_loss: 0.5649 - val_categorical_accuracy: 0.8571\n",
      "Epoch 8/50\n",
      "1/1 [==============================] - 2s 2s/step - loss: 0.0538 - categorical_accuracy: 1.0000 - val_loss: 0.6339 - val_categorical_accuracy: 0.5714\n",
      "Epoch 9/50\n",
      "1/1 [==============================] - 2s 2s/step - loss: 0.0390 - categorical_accuracy: 1.0000 - val_loss: 0.9198 - val_categorical_accuracy: 0.7143\n",
      "Epoch 10/50\n",
      "1/1 [==============================] - 2s 2s/step - loss: 0.0193 - categorical_accuracy: 1.0000 - val_loss: 1.3959 - val_categorical_accuracy: 0.5714\n",
      "Epoch 11/50\n",
      "1/1 [==============================] - 2s 2s/step - loss: 0.0287 - categorical_accuracy: 1.0000 - val_loss: 1.4399 - val_categorical_accuracy: 0.5714\n",
      "Epoch 12/50\n",
      "1/1 [==============================] - 2s 2s/step - loss: 0.0605 - categorical_accuracy: 0.9500 - val_loss: 1.3378 - val_categorical_accuracy: 0.7143\n",
      "Epoch 13/50\n",
      "1/1 [==============================] - 2s 2s/step - loss: 0.0049 - categorical_accuracy: 1.0000 - val_loss: 2.4957 - val_categorical_accuracy: 0.4286\n",
      "Epoch 14/50\n",
      "1/1 [==============================] - 3s 3s/step - loss: 0.0316 - categorical_accuracy: 1.0000 - val_loss: 2.7198 - val_categorical_accuracy: 0.4286\n",
      "Epoch 15/50\n",
      "1/1 [==============================] - 2s 2s/step - loss: 0.0202 - categorical_accuracy: 1.0000 - val_loss: 2.3980 - val_categorical_accuracy: 0.4286\n",
      "Epoch 16/50\n",
      "1/1 [==============================] - 2s 2s/step - loss: 0.0294 - categorical_accuracy: 1.0000 - val_loss: 1.8071 - val_categorical_accuracy: 0.5714\n",
      "Epoch 17/50\n",
      "1/1 [==============================] - 2s 2s/step - loss: 0.0135 - categorical_accuracy: 1.0000 - val_loss: 1.4478 - val_categorical_accuracy: 0.5714\n",
      "Epoch 18/50\n",
      "1/1 [==============================] - 2s 2s/step - loss: 0.0033 - categorical_accuracy: 1.0000 - val_loss: 1.2305 - val_categorical_accuracy: 0.5714\n",
      "Epoch 19/50\n",
      "1/1 [==============================] - 2s 2s/step - loss: 0.0010 - categorical_accuracy: 1.0000 - val_loss: 1.1341 - val_categorical_accuracy: 0.7143\n",
      "Epoch 20/50\n",
      "1/1 [==============================] - 2s 2s/step - loss: 0.0043 - categorical_accuracy: 1.0000 - val_loss: 1.4532 - val_categorical_accuracy: 0.7143\n",
      "Epoch 21/50\n",
      "1/1 [==============================] - 2s 2s/step - loss: 3.1282e-04 - categorical_accuracy: 1.0000 - val_loss: 2.2461 - val_categorical_accuracy: 0.7143\n",
      "Epoch 22/50\n",
      "1/1 [==============================] - 2s 2s/step - loss: 0.0099 - categorical_accuracy: 1.0000 - val_loss: 1.6205 - val_categorical_accuracy: 0.7143\n",
      "Epoch 23/50\n",
      "1/1 [==============================] - 2s 2s/step - loss: 6.5117e-04 - categorical_accuracy: 1.0000 - val_loss: 1.2529 - val_categorical_accuracy: 0.7143\n",
      "Epoch 24/50\n",
      "1/1 [==============================] - 2s 2s/step - loss: 1.5146e-04 - categorical_accuracy: 1.0000 - val_loss: 1.1201 - val_categorical_accuracy: 0.7143\n",
      "Epoch 25/50\n",
      "1/1 [==============================] - 2s 2s/step - loss: 3.2767e-04 - categorical_accuracy: 1.0000 - val_loss: 1.0719 - val_categorical_accuracy: 0.7143\n",
      "Epoch 26/50\n",
      "1/1 [==============================] - 2s 2s/step - loss: 2.1526e-04 - categorical_accuracy: 1.0000 - val_loss: 1.1413 - val_categorical_accuracy: 0.7143\n",
      "Epoch 27/50\n",
      "1/1 [==============================] - 2s 2s/step - loss: 9.4609e-04 - categorical_accuracy: 1.0000 - val_loss: 1.3277 - val_categorical_accuracy: 0.7143\n",
      "Epoch 28/50\n",
      "1/1 [==============================] - 2s 2s/step - loss: 8.1199e-04 - categorical_accuracy: 1.0000 - val_loss: 1.5060 - val_categorical_accuracy: 0.7143\n",
      "Epoch 29/50\n",
      "1/1 [==============================] - 2s 2s/step - loss: 9.4586e-04 - categorical_accuracy: 1.0000 - val_loss: 1.6019 - val_categorical_accuracy: 0.7143\n",
      "Epoch 30/50\n",
      "1/1 [==============================] - 2s 2s/step - loss: 0.0071 - categorical_accuracy: 1.0000 - val_loss: 1.1651 - val_categorical_accuracy: 0.5714\n",
      "Epoch 31/50\n",
      "1/1 [==============================] - 3s 3s/step - loss: 4.6725e-04 - categorical_accuracy: 1.0000 - val_loss: 0.9978 - val_categorical_accuracy: 0.7143\n",
      "Epoch 32/50\n",
      "1/1 [==============================] - 2s 2s/step - loss: 1.6412e-04 - categorical_accuracy: 1.0000 - val_loss: 0.9562 - val_categorical_accuracy: 0.7143\n",
      "Epoch 33/50\n",
      "1/1 [==============================] - 2s 2s/step - loss: 8.9459e-05 - categorical_accuracy: 1.0000 - val_loss: 0.9423 - val_categorical_accuracy: 0.7143\n",
      "Epoch 34/50\n",
      "1/1 [==============================] - 2s 2s/step - loss: 2.1951e-04 - categorical_accuracy: 1.0000 - val_loss: 1.0072 - val_categorical_accuracy: 0.8571\n",
      "Epoch 35/50\n",
      "1/1 [==============================] - 2s 2s/step - loss: 1.8525e-04 - categorical_accuracy: 1.0000 - val_loss: 1.1637 - val_categorical_accuracy: 0.8571\n",
      "Epoch 36/50\n",
      "1/1 [==============================] - 2s 2s/step - loss: 5.2064e-05 - categorical_accuracy: 1.0000 - val_loss: 1.3641 - val_categorical_accuracy: 0.7143\n",
      "Epoch 37/50\n",
      "1/1 [==============================] - 2s 2s/step - loss: 9.5031e-04 - categorical_accuracy: 1.0000 - val_loss: 1.3672 - val_categorical_accuracy: 0.7143\n",
      "Epoch 38/50\n",
      "1/1 [==============================] - 2s 2s/step - loss: 7.3960e-04 - categorical_accuracy: 1.0000 - val_loss: 1.3363 - val_categorical_accuracy: 0.7143\n",
      "Epoch 39/50\n",
      "1/1 [==============================] - 2s 2s/step - loss: 3.9156e-05 - categorical_accuracy: 1.0000 - val_loss: 1.3506 - val_categorical_accuracy: 0.7143\n",
      "Epoch 40/50\n",
      "1/1 [==============================] - 2s 2s/step - loss: 2.4709e-04 - categorical_accuracy: 1.0000 - val_loss: 1.3758 - val_categorical_accuracy: 0.7143\n",
      "Epoch 41/50\n",
      "1/1 [==============================] - 2s 2s/step - loss: 3.6865e-05 - categorical_accuracy: 1.0000 - val_loss: 1.4070 - val_categorical_accuracy: 0.7143\n",
      "Epoch 42/50\n",
      "1/1 [==============================] - 2s 2s/step - loss: 1.4641e-04 - categorical_accuracy: 1.0000 - val_loss: 1.4365 - val_categorical_accuracy: 0.7143\n",
      "Epoch 43/50\n",
      "1/1 [==============================] - 2s 2s/step - loss: 1.3471e-04 - categorical_accuracy: 1.0000 - val_loss: 1.4629 - val_categorical_accuracy: 0.7143\n",
      "Epoch 44/50\n",
      "1/1 [==============================] - 2s 2s/step - loss: 2.0089e-04 - categorical_accuracy: 1.0000 - val_loss: 1.4845 - val_categorical_accuracy: 0.7143\n",
      "Epoch 45/50\n",
      "1/1 [==============================] - 2s 2s/step - loss: 7.1285e-05 - categorical_accuracy: 1.0000 - val_loss: 1.5042 - val_categorical_accuracy: 0.7143\n",
      "Epoch 46/50\n",
      "1/1 [==============================] - 2s 2s/step - loss: 1.1023e-04 - categorical_accuracy: 1.0000 - val_loss: 1.5210 - val_categorical_accuracy: 0.7143\n",
      "Epoch 47/50\n",
      "1/1 [==============================] - 2s 2s/step - loss: 3.0829e-04 - categorical_accuracy: 1.0000 - val_loss: 1.5281 - val_categorical_accuracy: 0.7143\n",
      "Epoch 48/50\n",
      "1/1 [==============================] - 3s 3s/step - loss: 1.7108e-04 - categorical_accuracy: 1.0000 - val_loss: 1.5301 - val_categorical_accuracy: 0.7143\n",
      "Epoch 49/50\n",
      "1/1 [==============================] - 2s 2s/step - loss: 1.0813e-04 - categorical_accuracy: 1.0000 - val_loss: 1.5293 - val_categorical_accuracy: 0.7143\n",
      "Epoch 50/50\n",
      "1/1 [==============================] - 3s 3s/step - loss: 5.1164e-05 - categorical_accuracy: 1.0000 - val_loss: 1.5274 - val_categorical_accuracy: 0.7143\n"
     ]
    }
   ],
   "source": [
    "trained_model = model.fit(x=train_x_y,epochs=50,validation_data=validation_x_y)"
   ]
  },
  {
   "cell_type": "code",
   "execution_count": 49,
   "id": "8f979fc4",
   "metadata": {},
   "outputs": [
    {
     "name": "stderr",
     "output_type": "stream",
     "text": [
      "<ipython-input-49-16297172f6f7>:1: UserWarning: `Model.evaluate_generator` is deprecated and will be removed in a future version. Please use `Model.evaluate`, which supports generators.\n",
      "  model.evaluate_generator(generator=validation_x_y)\n"
     ]
    },
    {
     "data": {
      "text/plain": [
       "[1.52739417552948, 0.7142857313156128]"
      ]
     },
     "execution_count": 49,
     "metadata": {},
     "output_type": "execute_result"
    }
   ],
   "source": [
    "model.evaluate_generator(generator=validation_x_y)"
   ]
  },
  {
   "cell_type": "code",
   "execution_count": 50,
   "id": "157935c6",
   "metadata": {},
   "outputs": [],
   "source": [
    "model.save(filepath='Image_pic.h5')"
   ]
  },
  {
   "cell_type": "markdown",
   "id": "9d919817",
   "metadata": {},
   "source": [
    "### Making new Prediction"
   ]
  },
  {
   "cell_type": "code",
   "execution_count": 51,
   "id": "a020283d",
   "metadata": {},
   "outputs": [],
   "source": [
    "from keras.models import load_model\n",
    "import numpy as np\n",
    "from keras.preprocessing import image"
   ]
  },
  {
   "cell_type": "code",
   "execution_count": 52,
   "id": "3e531f3b",
   "metadata": {},
   "outputs": [],
   "source": [
    "test_data = image.load_img(r'C:\\Users\\Nikhil\\OneDrive\\Documents\\image processing test data\\nik.jpeg',target_size=(256,256))\n",
    "test_data = image.img_to_array(test_data)\n",
    "test_data = np.expand_dims(test_data,axis=0)"
   ]
  },
  {
   "cell_type": "code",
   "execution_count": 53,
   "id": "e62e213d",
   "metadata": {},
   "outputs": [],
   "source": [
    "## Load Model\n",
    "model = load_model('Image_pic.h5')"
   ]
  },
  {
   "cell_type": "code",
   "execution_count": 54,
   "id": "8ea1b505",
   "metadata": {},
   "outputs": [
    {
     "name": "stdout",
     "output_type": "stream",
     "text": [
      "nikhil\n"
     ]
    }
   ],
   "source": [
    "result = model.predict(test_data)\n",
    "\n",
    "if result[0][0] == 1:\n",
    "    prediction = 'nikhil'\n",
    "    print(prediction)\n",
    "    \n",
    "elif result[0][1] == 1:\n",
    "    prediction = 'pallavi'\n",
    "    print(prediction)\n",
    "    \n",
    "elif result[0][2] == 1:\n",
    "    prediction = 'shriya'\n",
    "    print(prediction)\n",
    "else:\n",
    "    print('triveni')"
   ]
  },
  {
   "cell_type": "code",
   "execution_count": null,
   "id": "514a395d",
   "metadata": {},
   "outputs": [],
   "source": []
  },
  {
   "cell_type": "code",
   "execution_count": null,
   "id": "d7c858cb",
   "metadata": {},
   "outputs": [],
   "source": []
  }
 ],
 "metadata": {
  "kernelspec": {
   "display_name": "Python 3",
   "language": "python",
   "name": "python3"
  },
  "language_info": {
   "codemirror_mode": {
    "name": "ipython",
    "version": 3
   },
   "file_extension": ".py",
   "mimetype": "text/x-python",
   "name": "python",
   "nbconvert_exporter": "python",
   "pygments_lexer": "ipython3",
   "version": "3.8.8"
  }
 },
 "nbformat": 4,
 "nbformat_minor": 5
}
